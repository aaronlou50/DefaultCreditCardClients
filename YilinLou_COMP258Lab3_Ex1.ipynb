{
 "cells": [
  {
   "cell_type": "code",
   "execution_count": null,
   "id": "297e4258-9c3e-431e-aaee-5605a6c1f79e",
   "metadata": {},
   "outputs": [],
   "source": [
    "# Yi-Lin Lou (Aaron) 301226659\n",
    "\n",
    "import pandas as pd\n",
    "import tensorflow as tf\n",
    "\n",
    "#load the dataset\n",
    "\n",
    "data_path = r'./data/default of credit card clients.xls'\n",
    "df = pd.read_excel(data_path, header=0)\n",
    "df.head(5)"
   ]
  },
  {
   "cell_type": "code",
   "execution_count": null,
   "id": "39646e7f-cb67-447a-a429-f8b043e9f6f1",
   "metadata": {},
   "outputs": [],
   "source": []
  }
 ],
 "metadata": {
  "kernelspec": {
   "display_name": "credit",
   "language": "python",
   "name": "credit"
  },
  "language_info": {
   "codemirror_mode": {
    "name": "ipython",
    "version": 3
   },
   "file_extension": ".py",
   "mimetype": "text/x-python",
   "name": "python",
   "nbconvert_exporter": "python",
   "pygments_lexer": "ipython3",
   "version": "3.10.7"
  }
 },
 "nbformat": 4,
 "nbformat_minor": 5
}
